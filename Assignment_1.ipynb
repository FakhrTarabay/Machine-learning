{
  "cells": [
    {
      "cell_type": "markdown",
      "metadata": {
        "id": "RD-i1lTKpZd6"
      },
      "source": [
        "<h1><center>CSEN1022:Assignment 1</center></h1>\n",
        "<h3><center>Winter 2021</center></h3>\n",
        "<hr style=\"border:2px solid black\"> </hr>"
      ]
    },
    {
      "cell_type": "markdown",
      "metadata": {
        "id": "vQBEAI81pZd-"
      },
      "source": [
        "## <u> Please don't forget to fill in this data </u>\n",
        "**Member 1**\n",
        "\n",
        "Name: Marwan Ayman Hamid Ismail\n",
        "\n",
        "GUC-ID: 40-16368\n",
        "\n",
        "Elective Tutorial No.: 3\n",
        "\n",
        "**Member 2**\n",
        "\n",
        "Name:Fakhreldin Hussein Soliman\n",
        "\n",
        "GUC-ID:43-11215\n",
        "\n",
        "Elective Tutorial No.: T1\n",
        "\n",
        "<hr style=\"border:2px solid black\"> </hr>"
      ]
    },
    {
      "cell_type": "markdown",
      "metadata": {
        "id": "PihyV9McpZd_"
      },
      "source": [
        "## Imports (Don't Edit)"
      ]
    },
    {
      "cell_type": "code",
      "execution_count": 2,
      "metadata": {
        "id": "NokJnHnSpZd_"
      },
      "outputs": [],
      "source": [
        "# ONLY USE THESE IMPORTS.\n",
        "# PLEASE DON'T EDIT THIS CELL.\n",
        "import numpy as np\n",
        "import matplotlib.pyplot as plt\n",
        "%matplotlib inline"
      ]
    },
    {
      "cell_type": "markdown",
      "metadata": {
        "id": "u6ceSCwHpZeA"
      },
      "source": [
        "## Read Data (Edit)"
      ]
    },
    {
      "cell_type": "code",
      "execution_count": 37,
      "metadata": {
        "colab": {
          "base_uri": "https://localhost:8080/",
          "height": 1000,
          "resources": {
            "http://localhost:8080/nbextensions/google.colab/files.js": {
              "data": "Ly8gQ29weXJpZ2h0IDIwMTcgR29vZ2xlIExMQwovLwovLyBMaWNlbnNlZCB1bmRlciB0aGUgQXBhY2hlIExpY2Vuc2UsIFZlcnNpb24gMi4wICh0aGUgIkxpY2Vuc2UiKTsKLy8geW91IG1heSBub3QgdXNlIHRoaXMgZmlsZSBleGNlcHQgaW4gY29tcGxpYW5jZSB3aXRoIHRoZSBMaWNlbnNlLgovLyBZb3UgbWF5IG9idGFpbiBhIGNvcHkgb2YgdGhlIExpY2Vuc2UgYXQKLy8KLy8gICAgICBodHRwOi8vd3d3LmFwYWNoZS5vcmcvbGljZW5zZXMvTElDRU5TRS0yLjAKLy8KLy8gVW5sZXNzIHJlcXVpcmVkIGJ5IGFwcGxpY2FibGUgbGF3IG9yIGFncmVlZCB0byBpbiB3cml0aW5nLCBzb2Z0d2FyZQovLyBkaXN0cmlidXRlZCB1bmRlciB0aGUgTGljZW5zZSBpcyBkaXN0cmlidXRlZCBvbiBhbiAiQVMgSVMiIEJBU0lTLAovLyBXSVRIT1VUIFdBUlJBTlRJRVMgT1IgQ09ORElUSU9OUyBPRiBBTlkgS0lORCwgZWl0aGVyIGV4cHJlc3Mgb3IgaW1wbGllZC4KLy8gU2VlIHRoZSBMaWNlbnNlIGZvciB0aGUgc3BlY2lmaWMgbGFuZ3VhZ2UgZ292ZXJuaW5nIHBlcm1pc3Npb25zIGFuZAovLyBsaW1pdGF0aW9ucyB1bmRlciB0aGUgTGljZW5zZS4KCi8qKgogKiBAZmlsZW92ZXJ2aWV3IEhlbHBlcnMgZm9yIGdvb2dsZS5jb2xhYiBQeXRob24gbW9kdWxlLgogKi8KKGZ1bmN0aW9uKHNjb3BlKSB7CmZ1bmN0aW9uIHNwYW4odGV4dCwgc3R5bGVBdHRyaWJ1dGVzID0ge30pIHsKICBjb25zdCBlbGVtZW50ID0gZG9jdW1lbnQuY3JlYXRlRWxlbWVudCgnc3BhbicpOwogIGVsZW1lbnQudGV4dENvbnRlbnQgPSB0ZXh0OwogIGZvciAoY29uc3Qga2V5IG9mIE9iamVjdC5rZXlzKHN0eWxlQXR0cmlidXRlcykpIHsKICAgIGVsZW1lbnQuc3R5bGVba2V5XSA9IHN0eWxlQXR0cmlidXRlc1trZXldOwogIH0KICByZXR1cm4gZWxlbWVudDsKfQoKLy8gTWF4IG51bWJlciBvZiBieXRlcyB3aGljaCB3aWxsIGJlIHVwbG9hZGVkIGF0IGEgdGltZS4KY29uc3QgTUFYX1BBWUxPQURfU0laRSA9IDEwMCAqIDEwMjQ7CgpmdW5jdGlvbiBfdXBsb2FkRmlsZXMoaW5wdXRJZCwgb3V0cHV0SWQpIHsKICBjb25zdCBzdGVwcyA9IHVwbG9hZEZpbGVzU3RlcChpbnB1dElkLCBvdXRwdXRJZCk7CiAgY29uc3Qgb3V0cHV0RWxlbWVudCA9IGRvY3VtZW50LmdldEVsZW1lbnRCeUlkKG91dHB1dElkKTsKICAvLyBDYWNoZSBzdGVwcyBvbiB0aGUgb3V0cHV0RWxlbWVudCB0byBtYWtlIGl0IGF2YWlsYWJsZSBmb3IgdGhlIG5leHQgY2FsbAogIC8vIHRvIHVwbG9hZEZpbGVzQ29udGludWUgZnJvbSBQeXRob24uCiAgb3V0cHV0RWxlbWVudC5zdGVwcyA9IHN0ZXBzOwoKICByZXR1cm4gX3VwbG9hZEZpbGVzQ29udGludWUob3V0cHV0SWQpOwp9CgovLyBUaGlzIGlzIHJvdWdobHkgYW4gYXN5bmMgZ2VuZXJhdG9yIChub3Qgc3VwcG9ydGVkIGluIHRoZSBicm93c2VyIHlldCksCi8vIHdoZXJlIHRoZXJlIGFyZSBtdWx0aXBsZSBhc3luY2hyb25vdXMgc3RlcHMgYW5kIHRoZSBQeXRob24gc2lkZSBpcyBnb2luZwovLyB0byBwb2xsIGZvciBjb21wbGV0aW9uIG9mIGVhY2ggc3RlcC4KLy8gVGhpcyB1c2VzIGEgUHJvbWlzZSB0byBibG9jayB0aGUgcHl0aG9uIHNpZGUgb24gY29tcGxldGlvbiBvZiBlYWNoIHN0ZXAsCi8vIHRoZW4gcGFzc2VzIHRoZSByZXN1bHQgb2YgdGhlIHByZXZpb3VzIHN0ZXAgYXMgdGhlIGlucHV0IHRvIHRoZSBuZXh0IHN0ZXAuCmZ1bmN0aW9uIF91cGxvYWRGaWxlc0NvbnRpbnVlKG91dHB1dElkKSB7CiAgY29uc3Qgb3V0cHV0RWxlbWVudCA9IGRvY3VtZW50LmdldEVsZW1lbnRCeUlkKG91dHB1dElkKTsKICBjb25zdCBzdGVwcyA9IG91dHB1dEVsZW1lbnQuc3RlcHM7CgogIGNvbnN0IG5leHQgPSBzdGVwcy5uZXh0KG91dHB1dEVsZW1lbnQubGFzdFByb21pc2VWYWx1ZSk7CiAgcmV0dXJuIFByb21pc2UucmVzb2x2ZShuZXh0LnZhbHVlLnByb21pc2UpLnRoZW4oKHZhbHVlKSA9PiB7CiAgICAvLyBDYWNoZSB0aGUgbGFzdCBwcm9taXNlIHZhbHVlIHRvIG1ha2UgaXQgYXZhaWxhYmxlIHRvIHRoZSBuZXh0CiAgICAvLyBzdGVwIG9mIHRoZSBnZW5lcmF0b3IuCiAgICBvdXRwdXRFbGVtZW50Lmxhc3RQcm9taXNlVmFsdWUgPSB2YWx1ZTsKICAgIHJldHVybiBuZXh0LnZhbHVlLnJlc3BvbnNlOwogIH0pOwp9CgovKioKICogR2VuZXJhdG9yIGZ1bmN0aW9uIHdoaWNoIGlzIGNhbGxlZCBiZXR3ZWVuIGVhY2ggYXN5bmMgc3RlcCBvZiB0aGUgdXBsb2FkCiAqIHByb2Nlc3MuCiAqIEBwYXJhbSB7c3RyaW5nfSBpbnB1dElkIEVsZW1lbnQgSUQgb2YgdGhlIGlucHV0IGZpbGUgcGlja2VyIGVsZW1lbnQuCiAqIEBwYXJhbSB7c3RyaW5nfSBvdXRwdXRJZCBFbGVtZW50IElEIG9mIHRoZSBvdXRwdXQgZGlzcGxheS4KICogQHJldHVybiB7IUl0ZXJhYmxlPCFPYmplY3Q+fSBJdGVyYWJsZSBvZiBuZXh0IHN0ZXBzLgogKi8KZnVuY3Rpb24qIHVwbG9hZEZpbGVzU3RlcChpbnB1dElkLCBvdXRwdXRJZCkgewogIGNvbnN0IGlucHV0RWxlbWVudCA9IGRvY3VtZW50LmdldEVsZW1lbnRCeUlkKGlucHV0SWQpOwogIGlucHV0RWxlbWVudC5kaXNhYmxlZCA9IGZhbHNlOwoKICBjb25zdCBvdXRwdXRFbGVtZW50ID0gZG9jdW1lbnQuZ2V0RWxlbWVudEJ5SWQob3V0cHV0SWQpOwogIG91dHB1dEVsZW1lbnQuaW5uZXJIVE1MID0gJyc7CgogIGNvbnN0IHBpY2tlZFByb21pc2UgPSBuZXcgUHJvbWlzZSgocmVzb2x2ZSkgPT4gewogICAgaW5wdXRFbGVtZW50LmFkZEV2ZW50TGlzdGVuZXIoJ2NoYW5nZScsIChlKSA9PiB7CiAgICAgIHJlc29sdmUoZS50YXJnZXQuZmlsZXMpOwogICAgfSk7CiAgfSk7CgogIGNvbnN0IGNhbmNlbCA9IGRvY3VtZW50LmNyZWF0ZUVsZW1lbnQoJ2J1dHRvbicpOwogIGlucHV0RWxlbWVudC5wYXJlbnRFbGVtZW50LmFwcGVuZENoaWxkKGNhbmNlbCk7CiAgY2FuY2VsLnRleHRDb250ZW50ID0gJ0NhbmNlbCB1cGxvYWQnOwogIGNvbnN0IGNhbmNlbFByb21pc2UgPSBuZXcgUHJvbWlzZSgocmVzb2x2ZSkgPT4gewogICAgY2FuY2VsLm9uY2xpY2sgPSAoKSA9PiB7CiAgICAgIHJlc29sdmUobnVsbCk7CiAgICB9OwogIH0pOwoKICAvLyBXYWl0IGZvciB0aGUgdXNlciB0byBwaWNrIHRoZSBmaWxlcy4KICBjb25zdCBmaWxlcyA9IHlpZWxkIHsKICAgIHByb21pc2U6IFByb21pc2UucmFjZShbcGlja2VkUHJvbWlzZSwgY2FuY2VsUHJvbWlzZV0pLAogICAgcmVzcG9uc2U6IHsKICAgICAgYWN0aW9uOiAnc3RhcnRpbmcnLAogICAgfQogIH07CgogIGNhbmNlbC5yZW1vdmUoKTsKCiAgLy8gRGlzYWJsZSB0aGUgaW5wdXQgZWxlbWVudCBzaW5jZSBmdXJ0aGVyIHBpY2tzIGFyZSBub3QgYWxsb3dlZC4KICBpbnB1dEVsZW1lbnQuZGlzYWJsZWQgPSB0cnVlOwoKICBpZiAoIWZpbGVzKSB7CiAgICByZXR1cm4gewogICAgICByZXNwb25zZTogewogICAgICAgIGFjdGlvbjogJ2NvbXBsZXRlJywKICAgICAgfQogICAgfTsKICB9CgogIGZvciAoY29uc3QgZmlsZSBvZiBmaWxlcykgewogICAgY29uc3QgbGkgPSBkb2N1bWVudC5jcmVhdGVFbGVtZW50KCdsaScpOwogICAgbGkuYXBwZW5kKHNwYW4oZmlsZS5uYW1lLCB7Zm9udFdlaWdodDogJ2JvbGQnfSkpOwogICAgbGkuYXBwZW5kKHNwYW4oCiAgICAgICAgYCgke2ZpbGUudHlwZSB8fCAnbi9hJ30pIC0gJHtmaWxlLnNpemV9IGJ5dGVzLCBgICsKICAgICAgICBgbGFzdCBtb2RpZmllZDogJHsKICAgICAgICAgICAgZmlsZS5sYXN0TW9kaWZpZWREYXRlID8gZmlsZS5sYXN0TW9kaWZpZWREYXRlLnRvTG9jYWxlRGF0ZVN0cmluZygpIDoKICAgICAgICAgICAgICAgICAgICAgICAgICAgICAgICAgICAgJ24vYSd9IC0gYCkpOwogICAgY29uc3QgcGVyY2VudCA9IHNwYW4oJzAlIGRvbmUnKTsKICAgIGxpLmFwcGVuZENoaWxkKHBlcmNlbnQpOwoKICAgIG91dHB1dEVsZW1lbnQuYXBwZW5kQ2hpbGQobGkpOwoKICAgIGNvbnN0IGZpbGVEYXRhUHJvbWlzZSA9IG5ldyBQcm9taXNlKChyZXNvbHZlKSA9PiB7CiAgICAgIGNvbnN0IHJlYWRlciA9IG5ldyBGaWxlUmVhZGVyKCk7CiAgICAgIHJlYWRlci5vbmxvYWQgPSAoZSkgPT4gewogICAgICAgIHJlc29sdmUoZS50YXJnZXQucmVzdWx0KTsKICAgICAgfTsKICAgICAgcmVhZGVyLnJlYWRBc0FycmF5QnVmZmVyKGZpbGUpOwogICAgfSk7CiAgICAvLyBXYWl0IGZvciB0aGUgZGF0YSB0byBiZSByZWFkeS4KICAgIGxldCBmaWxlRGF0YSA9IHlpZWxkIHsKICAgICAgcHJvbWlzZTogZmlsZURhdGFQcm9taXNlLAogICAgICByZXNwb25zZTogewogICAgICAgIGFjdGlvbjogJ2NvbnRpbnVlJywKICAgICAgfQogICAgfTsKCiAgICAvLyBVc2UgYSBjaHVua2VkIHNlbmRpbmcgdG8gYXZvaWQgbWVzc2FnZSBzaXplIGxpbWl0cy4gU2VlIGIvNjIxMTU2NjAuCiAgICBsZXQgcG9zaXRpb24gPSAwOwogICAgZG8gewogICAgICBjb25zdCBsZW5ndGggPSBNYXRoLm1pbihmaWxlRGF0YS5ieXRlTGVuZ3RoIC0gcG9zaXRpb24sIE1BWF9QQVlMT0FEX1NJWkUpOwogICAgICBjb25zdCBjaHVuayA9IG5ldyBVaW50OEFycmF5KGZpbGVEYXRhLCBwb3NpdGlvbiwgbGVuZ3RoKTsKICAgICAgcG9zaXRpb24gKz0gbGVuZ3RoOwoKICAgICAgY29uc3QgYmFzZTY0ID0gYnRvYShTdHJpbmcuZnJvbUNoYXJDb2RlLmFwcGx5KG51bGwsIGNodW5rKSk7CiAgICAgIHlpZWxkIHsKICAgICAgICByZXNwb25zZTogewogICAgICAgICAgYWN0aW9uOiAnYXBwZW5kJywKICAgICAgICAgIGZpbGU6IGZpbGUubmFtZSwKICAgICAgICAgIGRhdGE6IGJhc2U2NCwKICAgICAgICB9LAogICAgICB9OwoKICAgICAgbGV0IHBlcmNlbnREb25lID0gZmlsZURhdGEuYnl0ZUxlbmd0aCA9PT0gMCA/CiAgICAgICAgICAxMDAgOgogICAgICAgICAgTWF0aC5yb3VuZCgocG9zaXRpb24gLyBmaWxlRGF0YS5ieXRlTGVuZ3RoKSAqIDEwMCk7CiAgICAgIHBlcmNlbnQudGV4dENvbnRlbnQgPSBgJHtwZXJjZW50RG9uZX0lIGRvbmVgOwoKICAgIH0gd2hpbGUgKHBvc2l0aW9uIDwgZmlsZURhdGEuYnl0ZUxlbmd0aCk7CiAgfQoKICAvLyBBbGwgZG9uZS4KICB5aWVsZCB7CiAgICByZXNwb25zZTogewogICAgICBhY3Rpb246ICdjb21wbGV0ZScsCiAgICB9CiAgfTsKfQoKc2NvcGUuZ29vZ2xlID0gc2NvcGUuZ29vZ2xlIHx8IHt9OwpzY29wZS5nb29nbGUuY29sYWIgPSBzY29wZS5nb29nbGUuY29sYWIgfHwge307CnNjb3BlLmdvb2dsZS5jb2xhYi5fZmlsZXMgPSB7CiAgX3VwbG9hZEZpbGVzLAogIF91cGxvYWRGaWxlc0NvbnRpbnVlLAp9Owp9KShzZWxmKTsK",
              "headers": [
                [
                  "content-type",
                  "application/javascript"
                ]
              ],
              "ok": true,
              "status": 200,
              "status_text": ""
            }
          }
        },
        "id": "qmUOyT6GpZeA",
        "outputId": "99935e0d-188c-4cee-8667-87806ffa40ce"
      },
      "outputs": [],
      "source": [
        "# return (x_train, y_train), (x_test, y_test)\n",
        "# from google.colab import files\n",
        "# uploaded = files.upload()\n",
        "# !unzip Data.zip\n",
        "# Read Training Images, Testing Images, Training Labels, Testing Labels\n",
        "#train = np.array([plt.imread('Data/train/'+str(i)+'.jpg').reshape(-1) for i in range (1,2401)])\n",
        "#test = np.array([plt.imread('test/'+str(i)+'.jpg').reshape(-1) for i in range (1,201)])\n",
        "#train_labels = np.loadtxt('Train/Training Labels.txt')\n",
        "#test_labels = np.loadtxt('Test/Test Labels.txt')\n",
        "#print(train.shape, test.shape)\n",
        "#print(train_labels.shape,test_labels.shape)"
      ]
    },
    {
      "cell_type": "markdown",
      "metadata": {
        "id": "kQrX1Y3zpZeB"
      },
      "source": [
        "<hr style=\"border:2px solid black\"> </hr>\n",
        "\n",
        "## Construct Fischer's Linear Discriminant classifier for each of the 3 classes.\n",
        "#### Test each classifier on all images in X_Test. \n",
        "#### Construct Confusion Matrix."
      ]
    },
    {
      "cell_type": "code",
      "execution_count": 38,
      "metadata": {
        "colab": {
          "base_uri": "https://localhost:8080/"
        },
        "id": "fNhX8MZoGUV9",
        "outputId": "5f95202f-181d-4923-fb92-765751ba663f"
      },
      "outputs": [
        {
          "name": "stdout",
          "output_type": "stream",
          "text": [
            "10000 10000 10000\n",
            "15360000\n",
            "(3072, 3072)\n",
            "(3072, 3072)\n"
          ]
        }
      ],
      "source": [
        "# Write code here\n",
        "train_airplane_x = (np.array([plt.imread('Data/train/airplane/'+str(i)+'.jpg').reshape(-1) for i in range (0,5000)])/255)\n",
        "train_frog_x = (np.array([plt.imread('Data/train/frog/'+str(i)+'.jpg').reshape(-1) for i in range (0,5000)])/255)\n",
        "train_automobile_x = (np.array([plt.imread('Data/train/automobile/'+str(i)+'.jpg').reshape(-1) for i in range (0,5000)])/255)\n",
        "#print(len(train_airplane_x))\n",
        "#vertical = np.concatenate((image_1, image_2), axis = 0)\n",
        "train_not_airplane_x= np.concatenate((train_frog_x,train_automobile_x),  axis=0)\n",
        "train_not_frog_x=np.concatenate((train_airplane_x,train_automobile_x),  axis=0)\n",
        "train_not_automobile_x=np.concatenate((train_frog_x,train_airplane_x),  axis=0)\n",
        "print(len(train_not_airplane_x), len(train_not_frog_x), len(train_not_automobile_x))\n",
        "###reshaping into  M * N WHERE M no. images ,and N no. pixels\n",
        "train_not_airplane_x=train_not_airplane_x.reshape(10000,-1)\n",
        "train_not_frog_x=train_not_frog_x.reshape(10000,-1)\n",
        "train_not_automobile_x=train_not_automobile_x.reshape(10000,-1)\n",
        "\n",
        "train_airplane_x=train_airplane_x.reshape(5000,-1)\n",
        "train_frog_x=train_frog_x.reshape(5000,-1)\n",
        "train_automobile_x=train_automobile_x.reshape(5000,-1)\n",
        "print(train_airplane_x.size)\n",
        "\n",
        "# Train\n",
        "#AIRPLANE\n",
        "mean_airplane=np.mean(train_airplane_x,axis=0).reshape(-1,1)\n",
        "mean_not_airplane=np.mean(train_not_airplane_x,axis=0).reshape(-1,1)\n",
        "#FROG\n",
        "mean_frog    =np.mean(train_frog_x,axis=0).reshape(-1,1)\n",
        "mean_not_frog    =np.mean(train_not_frog_x,axis=0).reshape(-1,1)\n",
        "#AUTOMOBILE means\n",
        "mean_automobile    =np.mean(train_automobile_x,axis=0).reshape(-1,1)\n",
        "mean_not_automobile    =np.mean(train_not_automobile_x,axis=0).reshape(-1,1)\n",
        "Sw_Airplane=(train_airplane_x - mean_airplane.reshape((3072,)) ).T@(train_airplane_x - mean_airplane.reshape((3072,)) )\n",
        "Sw_Frog=(train_frog_x - mean_frog.reshape((3072,)) ).T@(train_frog_x - mean_frog.reshape((3072,)) )\n",
        "Sw_Automobile=(train_automobile_x - mean_automobile.reshape((3072,)) ).T@(train_automobile_x - mean_automobile.reshape((3072,)) )\n",
        "\n",
        "Sw_Not_Airplane=(train_not_airplane_x - mean_not_airplane.reshape((3072,)) ).T@(train_not_airplane_x - mean_not_airplane.reshape((3072,)) )\n",
        "Sw_Not_Frog=(train_not_frog_x - mean_not_frog.reshape((3072,)) ).T@(train_not_frog_x - mean_not_frog.reshape((3072,)) )\n",
        "Sw_Not_Automobile=(train_not_automobile_x - mean_not_automobile.reshape((3072,)) ).T@(train_not_automobile_x - mean_not_automobile.reshape((3072,)) )\n",
        "print(Sw_Frog.shape) \n",
        "print(Sw_Automobile.shape) \n",
        "\n",
        "Sw_airplane_inv=np.linalg.inv(Sw_Airplane+Sw_Not_Airplane)\n",
        "Sw_frog_inv=np.linalg.inv(Sw_Frog+Sw_Not_Frog)\n",
        "Sw_automobile_inv=np.linalg.inv(Sw_Automobile+Sw_Not_Automobile)\n",
        "#AIRPLANE\n",
        "classifier_Airplane=Sw_airplane_inv@(mean_airplane-mean_not_airplane)\n",
        "W0_Airplane=(classifier_Airplane.T @ (-0.5*(mean_airplane +mean_not_airplane)))[0][0]\n",
        "#FROG\n",
        "classifierFrog=Sw_frog_inv@(mean_frog-mean_not_frog)\n",
        "W0_Frog=(classifierFrog.T @ (-0.5*(mean_frog +mean_not_frog)))[0][0]\n",
        "#AUTOMOBILE\n",
        "classifierAutomobile=Sw_automobile_inv@(mean_automobile-mean_not_automobile) \n",
        "W0_Automobile=(classifierAutomobile.T @ (-0.5*(mean_automobile +mean_not_automobile)))[0][0]\n"
      ]
    },
    {
      "cell_type": "code",
      "execution_count": 5,
      "metadata": {
        "colab": {
          "base_uri": "https://localhost:8080/"
        },
        "id": "om1w_vJgkNKE",
        "outputId": "4d4fc0fb-944c-4781-b2f3-4fb07b4221db"
      },
      "outputs": [],
      "source": [
        "test_air = np.array([plt.imread('Data/Test/airplane/'+str(i)+'.jpg').reshape(-1)/255 for i in range (0,1000)])\n",
        "test_frog = np.array([plt.imread('Data/Test/frog/'+str(i)+'.jpg').reshape(-1)/255 for i in range (0,1000)])\n",
        "test_auto = np.array([plt.imread('Data/Test/automobile/'+str(i)+'.jpg').reshape(-1)/255 for i in range (0,1000)])"
      ]
    },
    {
      "cell_type": "code",
      "execution_count": 4,
      "metadata": {},
      "outputs": [
        {
          "data": {
            "text/plain": [
              "array([[0.55294118, 0.62352941, 0.70196078, ..., 0.19215686, 0.28235294,\n",
              "        0.25098039],\n",
              "       [0.36078431, 0.48235294, 0.59607843, ..., 0.36470588, 0.4627451 ,\n",
              "        0.58039216],\n",
              "       [0.97647059, 0.98431373, 0.96470588, ..., 0.96470588, 0.97254902,\n",
              "        0.95294118],\n",
              "       ...,\n",
              "       [0.68627451, 0.74117647, 0.69019608, ..., 0.38823529, 0.38431373,\n",
              "        0.31372549],\n",
              "       [0.57647059, 0.62745098, 0.65882353, ..., 0.34901961, 0.4627451 ,\n",
              "        0.48627451],\n",
              "       [0.44705882, 0.55294118, 0.76862745, ..., 0.01960784, 0.        ,\n",
              "        0.        ]])"
            ]
          },
          "execution_count": 4,
          "metadata": {},
          "output_type": "execute_result"
        }
      ],
      "source": [
        "test_air"
      ]
    },
    {
      "cell_type": "code",
      "execution_count": 6,
      "metadata": {},
      "outputs": [
        {
          "data": {
            "text/plain": [
              "array([[0.55294118, 0.62352941, 0.70196078, ..., 0.19215686, 0.28235294,\n",
              "        0.25098039],\n",
              "       [0.36078431, 0.48235294, 0.59607843, ..., 0.36470588, 0.4627451 ,\n",
              "        0.58039216],\n",
              "       [0.97647059, 0.98431373, 0.96470588, ..., 0.96470588, 0.97254902,\n",
              "        0.95294118],\n",
              "       ...,\n",
              "       [0.68627451, 0.74117647, 0.69019608, ..., 0.38823529, 0.38431373,\n",
              "        0.31372549],\n",
              "       [0.57647059, 0.62745098, 0.65882353, ..., 0.34901961, 0.4627451 ,\n",
              "        0.48627451],\n",
              "       [0.44705882, 0.55294118, 0.76862745, ..., 0.01960784, 0.        ,\n",
              "        0.        ]])"
            ]
          },
          "execution_count": 6,
          "metadata": {},
          "output_type": "execute_result"
        }
      ],
      "source": [
        "test_air"
      ]
    },
    {
      "cell_type": "code",
      "execution_count": 40,
      "metadata": {},
      "outputs": [
        {
          "name": "stdout",
          "output_type": "stream",
          "text": [
            "767 127 106\n"
          ]
        }
      ],
      "source": [
        "car_air = 0\n",
        "air_air = 0\n",
        "frog_air = 0\n",
        "for pic in range(1000):\n",
        "    res = []\n",
        "    res = np.concatenate((res,((classifier_Airplane).T@test_air[pic])+W0_Airplane,((classifierAutomobile).T@test_air[pic])+W0_Automobile,((classifierFrog).T@test_air[pic])+W0_Frog))\n",
        "    if res[0]>res[1]:\n",
        "        if res[0]>res[2]:\n",
        "            air_air+=1\n",
        "    if res[1]>res[0]:\n",
        "        if res[1]>res[2]:\n",
        "            car_air+=1\n",
        "    if res[2]>res[1]:\n",
        "        if res[2]>res[0]:\n",
        "            frog_air+=1\n",
        "print(air_air,car_air,frog_air)"
      ]
    },
    {
      "cell_type": "code",
      "execution_count": 41,
      "metadata": {},
      "outputs": [
        {
          "name": "stdout",
          "output_type": "stream",
          "text": [
            "190 670 140\n"
          ]
        }
      ],
      "source": [
        "car_auto = 0\n",
        "air_auto = 0\n",
        "frog_auto = 0\n",
        "for pic in range(1000):\n",
        "    res = []\n",
        "    res = np.concatenate((res,((classifier_Airplane).T@test_auto[pic])+W0_Airplane,((classifierAutomobile).T@test_auto[pic])+W0_Automobile,((classifierFrog).T@test_auto[pic])+W0_Frog))\n",
        "    if res[0]>res[1]:\n",
        "        if res[0]>res[2]:\n",
        "            air_auto+=1\n",
        "    if res[1]>res[0]:\n",
        "        if res[1]>res[2]:\n",
        "            car_auto+=1\n",
        "    if res[2]>res[1]:\n",
        "        if res[2]>res[0]:\n",
        "            frog_auto+=1\n",
        "print(air_auto,car_auto,frog_auto)"
      ]
    },
    {
      "cell_type": "code",
      "execution_count": 42,
      "metadata": {},
      "outputs": [
        {
          "name": "stdout",
          "output_type": "stream",
          "text": [
            "85 124 791\n"
          ]
        }
      ],
      "source": [
        "car_frog = 0\n",
        "air_frog = 0\n",
        "frog_frog = 0\n",
        "for pic in range(1000):\n",
        "    res = []\n",
        "    res = np.concatenate((res,((classifier_Airplane).T@test_frog[pic])+W0_Airplane,((classifierAutomobile).T@test_frog[pic])+W0_Automobile,((classifierFrog).T@test_frog[pic])+W0_Frog))\n",
        "    if res[0]>res[1]:\n",
        "        if res[0]>res[2]:\n",
        "            air_frog+=1\n",
        "    if res[1]>res[0]:\n",
        "        if res[1]>res[2]:\n",
        "            car_frog+=1\n",
        "    if res[2]>res[1]:\n",
        "        if res[2]>res[0]:\n",
        "            frog_frog+=1\n",
        "print(air_frog,car_frog,frog_frog)"
      ]
    },
    {
      "cell_type": "code",
      "execution_count": 43,
      "metadata": {},
      "outputs": [
        {
          "name": "stdout",
          "output_type": "stream",
          "text": [
            "[[767 127 106]\n",
            " [190 670 140]\n",
            " [ 85 124 791]]\n"
          ]
        }
      ],
      "source": [
        "confusion_matrix = np.array(([air_air,car_air,frog_air],[air_auto,car_auto,frog_auto],[air_frog,car_frog,frog_frog]))\n",
        "print(confusion_matrix)"
      ]
    },
    {
      "cell_type": "markdown",
      "metadata": {
        "id": "dtt332MkpZeC"
      },
      "source": [
        "## Confusion Matrix (Don't Edit)"
      ]
    },
    {
      "cell_type": "code",
      "execution_count": 44,
      "metadata": {
        "id": "j7atmr1epZeD"
      },
      "outputs": [
        {
          "data": {
            "image/png": "[encoded data removed]",
            "text/plain": [
              "<Figure size 360x360 with 1 Axes>"
            ]
          },
          "metadata": {
            "needs_background": "light"
          },
          "output_type": "display_data"
        }
      ],
      "source": [
        "# Make sure the previous cell returns a variable called confusion_matrix\n",
        "# Plot Confusion Matrix\n",
        "accuracy = np.diag(confusion_matrix).sum()/3000\n",
        "plt.rc('figure', figsize=[5,5])\n",
        "plt.matshow(confusion_matrix,cmap=\"Blues\")\n",
        "plt.title('FLD+RGB = {0:0.3f}'.format(accuracy))\n",
        "for i in range(0,confusion_matrix.shape[0]):\n",
        "    for j in range(0,confusion_matrix.shape[1]):\n",
        "        plt.annotate(confusion_matrix[i,j],(j,i))"
      ]
    },
    {
      "cell_type": "markdown",
      "metadata": {
        "id": "fvWlIOaWpZeD"
      },
      "source": [
        "### Repeat for Grayscale"
      ]
    },
    {
      "cell_type": "code",
      "execution_count": 3,
      "metadata": {
        "id": "-IkKQ2pfpZeE"
      },
      "outputs": [],
      "source": [
        "train_airplane_gray = (np.array([plt.imread('Data/train/airplane/'+str(i)+'.jpg').reshape(-1) for i in range (0,5000)])/255)\n",
        "train_frog_gray = (np.array([plt.imread('Data/train/frog/'+str(i)+'.jpg').reshape(-1) for i in range (0,5000)])/255)\n",
        "train_automobile_gray = (np.array([plt.imread('Data/train/automobile/'+str(i)+'.jpg').reshape(-1) for i in range (0,5000)])/255)"
      ]
    },
    {
      "cell_type": "code",
      "execution_count": 5,
      "metadata": {},
      "outputs": [
        {
          "data": {
            "text/plain": [
              "(5000, 3072)"
            ]
          },
          "execution_count": 5,
          "metadata": {},
          "output_type": "execute_result"
        }
      ],
      "source": [
        "t"
      ]
    },
    {
      "cell_type": "code",
      "execution_count": 46,
      "metadata": {},
      "outputs": [],
      "source": [
        "new_air_gray = []\n",
        "new_air_row = []\n",
        "for pic in range(5000):\n",
        "    for pixel in range(1024):\n",
        "        new_air_row.append(train_airplane_gray[pic][0+(3*pixel)]*0.3+train_airplane_gray[pic][1+(3*pixel)]*0.59+train_airplane_gray[pic][2+(3*pixel)]*0.11)\n",
        "    new_air_gray.append(new_air_row)\n",
        "    new_air_row = []"
      ]
    },
    {
      "cell_type": "code",
      "execution_count": 47,
      "metadata": {},
      "outputs": [],
      "source": [
        "new_auto_gray = []\n",
        "new_auto_row = []\n",
        "for pic in range(5000):\n",
        "    for pixel in range(1024):\n",
        "        new_auto_row.append(train_automobile_gray[pic][0+(3*pixel)]*0.3+train_automobile_gray[pic][1+(3*pixel)]*0.59+train_automobile_gray[pic][2+(3*pixel)]*0.11)\n",
        "    new_auto_gray.append(new_auto_row)\n",
        "    new_auto_row = []"
      ]
    },
    {
      "cell_type": "code",
      "execution_count": 48,
      "metadata": {},
      "outputs": [
        {
          "name": "stdout",
          "output_type": "stream",
          "text": [
            "1024\n"
          ]
        }
      ],
      "source": [
        "new_frog_gray = []\n",
        "new_frog_row = []\n",
        "for pic in range(5000):\n",
        "    for pixel in range(1024):\n",
        "        new_frog_row.append(train_frog_gray[pic][0+(3*pixel)]*0.3+train_frog_gray[pic][1+(3*pixel)]*0.59+train_frog_gray[pic][2+(3*pixel)]*0.11)\n",
        "    new_frog_gray.append(new_frog_row)\n",
        "    new_frog_row = []\n",
        "print(len(new_air_gray[0]))"
      ]
    },
    {
      "cell_type": "code",
      "execution_count": 49,
      "metadata": {},
      "outputs": [],
      "source": [
        "train_not_airplane_gray= np.concatenate((new_frog_gray,new_auto_gray),  axis=0)\n",
        "train_not_frog_gray=np.concatenate((new_air_gray,new_auto_gray),  axis=0)\n",
        "train_not_automobile_gray=np.concatenate((new_frog_gray,new_air_gray),  axis=0)\n",
        "train_not_airplane_gray=train_not_airplane_gray.reshape(10000,-1)\n",
        "train_not_frog_gray=train_not_frog_gray.reshape(10000,-1)\n",
        "train_not_automobile_gray=train_not_automobile_gray.reshape(10000,-1)\n",
        "new_air_gray=np.array(new_air_gray).reshape(5000,-1)\n",
        "new_frog_gray=np.array(new_frog_gray).reshape(5000,-1)\n",
        "new_auto_gray=np.array(new_auto_gray).reshape(5000,-1)\n"
      ]
    },
    {
      "cell_type": "code",
      "execution_count": 50,
      "metadata": {},
      "outputs": [],
      "source": [
        "# Train\n",
        "#AIRPLANE\n",
        "mean_airplane=np.mean(new_air_gray,axis=0).reshape(-1,1)\n",
        "mean_not_airplane=np.mean(train_not_airplane_gray,axis=0).reshape(-1,1)\n",
        "#FROG\n",
        "mean_frog    =np.mean(new_frog_gray,axis=0).reshape(-1,1)\n",
        "mean_not_frog    =np.mean(train_not_frog_gray,axis=0).reshape(-1,1)\n",
        "#AUTOMOBILE means\n",
        "mean_automobile    =np.mean(new_auto_gray,axis=0).reshape(-1,1)\n",
        "mean_not_automobile    =np.mean(train_not_automobile_gray,axis=0).reshape(-1,1)\n",
        "Sw_Airplane=(new_air_gray - mean_airplane.reshape((1024,)) ).T@(new_air_gray - mean_airplane.reshape((1024,)) )\n",
        "Sw_Frog=(new_frog_gray - mean_frog.reshape((1024,)) ).T@(new_frog_gray - mean_frog.reshape((1024,)) )\n",
        "Sw_Automobile=(new_auto_gray - mean_automobile.reshape((1024,)) ).T@(new_auto_gray - mean_automobile.reshape((1024,)) )\n",
        "\n",
        "Sw_Not_Airplane=(train_not_airplane_gray - mean_not_airplane.reshape((1024,)) ).T@(train_not_airplane_gray - mean_not_airplane.reshape((1024,))) \n",
        "Sw_Not_Frog=(train_not_frog_gray - mean_not_frog.reshape((1024,)) ).T@(train_not_frog_gray - mean_not_frog.reshape((1024,)) )\n",
        "Sw_Not_Automobile=(train_not_automobile_gray - mean_not_automobile.reshape((1024,)) ).T@(train_not_automobile_gray - mean_not_automobile.reshape((1024,)) )\n",
        "\n",
        "\n",
        "Sw_airplane_inv=np.linalg.inv(Sw_Airplane+Sw_Not_Airplane)\n",
        "Sw_frog_inv=np.linalg.inv(Sw_Frog+Sw_Not_Frog)\n",
        "Sw_automobile_inv=np.linalg.inv(Sw_Automobile+Sw_Not_Automobile)\n",
        "#AIRPLANE\n",
        "classifier_Airplane=Sw_airplane_inv@(mean_airplane-mean_not_airplane)\n",
        "W0_Airplane=(classifier_Airplane.T @ (-0.5*(mean_airplane +mean_not_airplane)))[0][0]\n",
        "#FROG\n",
        "classifierFrog=Sw_frog_inv@(mean_frog-mean_not_frog)\n",
        "W0_Frog=(classifierFrog.T @ (-0.5*(mean_frog +mean_not_frog)))[0][0]\n",
        "#AUTOMOBILE\n",
        "classifierAutomobile=Sw_automobile_inv@(mean_automobile-mean_not_automobile) \n",
        "W0_Automobile=(classifierAutomobile.T @ (-0.5*(mean_automobile +mean_not_automobile)))[0][0]"
      ]
    },
    {
      "cell_type": "code",
      "execution_count": 51,
      "metadata": {},
      "outputs": [],
      "source": [
        "test_air_gray = np.array([plt.imread('Data/Test/airplane/'+str(i)+'.jpg').reshape(-1)/255 for i in range (0,1000)])\n",
        "test_frog_gray = np.array([plt.imread('Data/Test/frog/'+str(i)+'.jpg').reshape(-1)/255 for i in range (0,1000)])\n",
        "test_auto_gray = np.array([plt.imread('Data/Test/automobile/'+str(i)+'.jpg').reshape(-1)/255 for i in range (0,1000)])"
      ]
    },
    {
      "cell_type": "code",
      "execution_count": 52,
      "metadata": {},
      "outputs": [],
      "source": [
        "new_air_gray_t = []\n",
        "new_air_row = []\n",
        "for pic in range(1000):\n",
        "    for pixel in range(1024):\n",
        "        new_air_row.append(test_air_gray[pic][0+(3*pixel)]*0.3+test_air_gray[pic][1+(3*pixel)]*0.59+test_air_gray[pic][2+(3*pixel)]*0.11)\n",
        "    new_air_gray_t.append(new_air_row)\n",
        "    new_air_row = []"
      ]
    },
    {
      "cell_type": "code",
      "execution_count": 53,
      "metadata": {},
      "outputs": [],
      "source": [
        "new_auto_gray_t = []\n",
        "new_auto_row = []\n",
        "for pic in range(1000):\n",
        "    for pixel in range(1024):\n",
        "        new_auto_row.append(test_auto_gray[pic][0+(3*pixel)]*0.3+test_auto_gray[pic][1+(3*pixel)]*0.59+test_auto_gray[pic][2+(3*pixel)]*0.11)\n",
        "    new_auto_gray_t.append(new_auto_row)\n",
        "    new_auto_row = []"
      ]
    },
    {
      "cell_type": "code",
      "execution_count": 54,
      "metadata": {},
      "outputs": [],
      "source": [
        "new_frog_gray_t = []\n",
        "new_frog_row = []\n",
        "for pic in range(1000):\n",
        "    for pixel in range(1024):\n",
        "        new_frog_row.append(test_frog_gray[pic][0+(3*pixel)]*0.3+test_frog_gray[pic][1+(3*pixel)]*0.59+test_frog_gray[pic][2+(3*pixel)]*0.11)\n",
        "    new_frog_gray_t.append(new_frog_row)\n",
        "    new_frog_row = []"
      ]
    },
    {
      "cell_type": "code",
      "execution_count": 55,
      "metadata": {},
      "outputs": [
        {
          "name": "stdout",
          "output_type": "stream",
          "text": [
            "676 131 193\n"
          ]
        }
      ],
      "source": [
        "car_air = 0\n",
        "air_air = 0\n",
        "frog_air = 0\n",
        "for pic in range(1000):\n",
        "    res = []\n",
        "    res = np.concatenate((res,((classifier_Airplane).T@new_air_gray_t[pic])+W0_Airplane,((classifierAutomobile).T@new_air_gray_t[pic])+W0_Automobile,((classifierFrog).T@new_air_gray_t[pic])+W0_Frog))\n",
        "    if res[0]>res[1]:\n",
        "        if res[0]>res[2]:\n",
        "            air_air+=1\n",
        "    if res[1]>res[0]:\n",
        "        if res[1]>res[2]:\n",
        "            car_air+=1\n",
        "    if res[2]>res[1]:\n",
        "        if res[2]>res[0]:\n",
        "            frog_air+=1\n",
        "print(air_air,car_air,frog_air)"
      ]
    },
    {
      "cell_type": "code",
      "execution_count": 3,
      "metadata": {},
      "outputs": [
        {
          "ename": "TypeError",
          "evalue": "'<' not supported between instances of 'str' and 'int'",
          "output_type": "error",
          "traceback": [
            "\u001b[1;31m---------------------------------------------------------------------------\u001b[0m",
            "\u001b[1;31mTypeError\u001b[0m                                 Traceback (most recent call last)",
            "\u001b[1;32m~\\AppData\\Local\\Temp/ipykernel_744/2271290917.py\u001b[0m in \u001b[0;36m<module>\u001b[1;34m\u001b[0m\n\u001b[1;32m----> 1\u001b[1;33m \u001b[1;34m'inf'\u001b[0m\u001b[1;33m<\u001b[0m\u001b[1;36m3\u001b[0m\u001b[1;33m\u001b[0m\u001b[1;33m\u001b[0m\u001b[0m\n\u001b[0m",
            "\u001b[1;31mTypeError\u001b[0m: '<' not supported between instances of 'str' and 'int'"
          ]
        }
      ],
      "source": []
    },
    {
      "cell_type": "code",
      "execution_count": 56,
      "metadata": {},
      "outputs": [
        {
          "name": "stdout",
          "output_type": "stream",
          "text": [
            "178 593 229\n"
          ]
        }
      ],
      "source": [
        "car_auto = 0\n",
        "air_auto = 0\n",
        "frog_auto = 0\n",
        "for pic in range(1000):\n",
        "    res = []\n",
        "    res = np.concatenate((res,((classifier_Airplane).T@new_auto_gray_t[pic])+W0_Airplane,((classifierAutomobile).T@new_auto_gray_t[pic])+W0_Automobile,((classifierFrog).T@new_auto_gray_t[pic])+W0_Frog))\n",
        "    if res[0]>res[1]:\n",
        "        if res[0]>res[2]:\n",
        "            air_auto+=1\n",
        "    if res[1]>res[0]:\n",
        "        if res[1]>res[2]:\n",
        "            car_auto+=1\n",
        "    if res[2]>res[1]:\n",
        "        if res[2]>res[0]:\n",
        "            frog_auto+=1\n",
        "print(air_auto,car_auto,frog_auto)"
      ]
    },
    {
      "cell_type": "code",
      "execution_count": 57,
      "metadata": {},
      "outputs": [
        {
          "name": "stdout",
          "output_type": "stream",
          "text": [
            "231 233 536\n"
          ]
        }
      ],
      "source": [
        "car_frog = 0\n",
        "air_frog = 0\n",
        "frog_frog = 0\n",
        "for pic in range(1000):\n",
        "    res = []\n",
        "    res = np.concatenate((res,((classifier_Airplane).T@new_frog_gray_t[pic])+W0_Airplane,((classifierAutomobile).T@new_frog_gray_t[pic])+W0_Automobile,((classifierFrog).T@new_frog_gray_t[pic])+W0_Frog))\n",
        "    if res[0]>res[1]:\n",
        "        if res[0]>res[2]:\n",
        "            air_frog+=1\n",
        "    if res[1]>res[0]:\n",
        "        if res[1]>res[2]:\n",
        "            car_frog+=1\n",
        "    if res[2]>res[1]:\n",
        "        if res[2]>res[0]:\n",
        "            frog_frog+=1\n",
        "print(air_frog,car_frog,frog_frog)"
      ]
    },
    {
      "cell_type": "code",
      "execution_count": 58,
      "metadata": {},
      "outputs": [
        {
          "name": "stdout",
          "output_type": "stream",
          "text": [
            "[[676 131 193]\n",
            " [178 593 229]\n",
            " [231 233 536]]\n"
          ]
        }
      ],
      "source": [
        "confusion_matrix = np.array(([air_air,car_air,frog_air],[air_auto,car_auto,frog_auto],[air_frog,car_frog,frog_frog]))\n",
        "print(confusion_matrix)"
      ]
    },
    {
      "cell_type": "markdown",
      "metadata": {
        "id": "-w2sjBEepZeE"
      },
      "source": [
        "## Confusion Matrix (Don't Edit)"
      ]
    },
    {
      "cell_type": "code",
      "execution_count": 59,
      "metadata": {
        "id": "r9tvGM_hpZeE"
      },
      "outputs": [
        {
          "data": {
            "image/png": "[encoded data removed]",
            "text/plain": [
              "<Figure size 360x360 with 1 Axes>"
            ]
          },
          "metadata": {
            "needs_background": "light"
          },
          "output_type": "display_data"
        }
      ],
      "source": [
        "# Make sure the previous cell returns a variable called confusion_matrix\n",
        "# Plot Confusion Matrix\n",
        "accuracy = np.diag(confusion_matrix).sum()/3000\n",
        "plt.rc('figure', figsize=[5,5])\n",
        "plt.matshow(confusion_matrix,cmap=\"Blues\")\n",
        "plt.title('FLD+GRAY = {0:0.3f}'.format(accuracy))\n",
        "for i in range(0,confusion_matrix.shape[0]):\n",
        "    for j in range(0,confusion_matrix.shape[1]):\n",
        "        plt.annotate(confusion_matrix[i,j],(j,i))"
      ]
    },
    {
      "cell_type": "markdown",
      "metadata": {
        "id": "q_nveNdypZeE"
      },
      "source": [
        "<hr style=\"border:2px solid black\"> </hr>\n",
        "\n",
        "## Comment on the change of accuracy between RGB and Grayscale\n",
        "Because the lack of color decreases the information (instead of three color channels grayscale has only one) used in the discrimination thus resulting in an overall worse accuracy.Additionally, in grayscale different colors may result the same color resulting in more confusion.For instance; (R=250,G=0,B=0) and (R=0,G=125,B=125) will yield to the same grayscale color which is (250+0+0)/3.To conclude,Using whether RGB or grayscale depends on the classification objects.In Some classes color bands have no significance while in others like the frog class the color band has much significance.\n",
        "<hr style=\"border:2px solid black\"> </hr>"
      ]
    }
  ],
  "metadata": {
    "colab": {
      "collapsed_sections": [],
      "name": "Assignment_1.ipynb",
      "provenance": []
    },
    "interpreter": {
      "hash": "31f2aee4e71d21fbe5cf8b01ff0e069b9275f58929596ceb00d14d90e3e16cd6"
    },
    "kernelspec": {
      "display_name": "Python 3",
      "language": "python",
      "name": "python3"
    },
    "language_info": {
      "codemirror_mode": {
        "name": "ipython",
        "version": 3
      },
      "file_extension": ".py",
      "mimetype": "text/x-python",
      "name": "python",
      "nbconvert_exporter": "python",
      "pygments_lexer": "ipython3",
      "version": "3.7.9"
    }
  },
  "nbformat": 4,
  "nbformat_minor": 0
}
